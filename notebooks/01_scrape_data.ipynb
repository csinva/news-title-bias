{
 "cells": [
  {
   "cell_type": "code",
   "execution_count": 1,
   "metadata": {},
   "outputs": [],
   "source": [
    "import pandas as pd\n",
    "import bs4 as bs\n",
    "import urllib.request\n",
    "from tqdm import tqdm\n",
    "import numpy as np"
   ]
  },
  {
   "cell_type": "markdown",
   "metadata": {},
   "source": [
    "# load story metadata"
   ]
  },
  {
   "cell_type": "code",
   "execution_count": null,
   "metadata": {},
   "outputs": [],
   "source": [
    "url_root = 'https://www.allsides.com/'\n",
    "url_page = url_root + 'story/admin?page='\n",
    "tab_num = 0\n",
    "\n",
    "# loop over pages\n",
    "# there are about 100 pages as of 12/29/2020, so we set this number to be well above that\n",
    "dfs = []\n",
    "for tab_num in tqdm(range(150)):\n",
    "    # read in the source\n",
    "    try:\n",
    "        source = urllib.request.urlopen(url_page + str(tab_num))\n",
    "        sp = bs.BeautifulSoup(source, 'lxml')\n",
    "        table = sp.table\n",
    "        df = pd.read_html(str(table), encoding='utf-8',\n",
    "                          header=0)[0]  # read table with no links\n",
    "\n",
    "        # get links\n",
    "        links = []\n",
    "        for tag in table.find_all('a'):\n",
    "            if tag.has_attr('href'):\n",
    "                link = tag.get('href')\n",
    "                if '/story' in link:\n",
    "                    links.append(link)\n",
    "            else:\n",
    "                print(f'error! missing a link for {link}')\n",
    "        df['url_story'] = links\n",
    "        dfs.append(df)\n",
    "    except:\n",
    "        print(f'stopped after {tab_num} pages')\n",
    "        break\n",
    "\n",
    "df = pd.concat(dfs)\n",
    "df.to_pickle('../data/df_links.pkl')"
   ]
  },
  {
   "cell_type": "markdown",
   "metadata": {},
   "source": [
    "# load news title / sources by following links"
   ]
  },
  {
   "cell_type": "code",
   "execution_count": null,
   "metadata": {},
   "outputs": [],
   "source": [
    "# add info from link\n",
    "def get_info_from_url_story(url_story):\n",
    "    '''add info rom url on a a story\n",
    "    '''\n",
    "    story = urllib.request.urlopen(url_story)\n",
    "    sp_story = bs.BeautifulSoup(story, 'html.parser')\n",
    "\n",
    "    # extract info from specific story page\n",
    "    story_triplet_info = {}\n",
    "\n",
    "    # loop over left, center, and right stories\n",
    "    try:\n",
    "        for div in sp_story.find_all('div', {'class': 'news-title'})[:3]:\n",
    "            title = div.a.contents[0]\n",
    "            url = div.a.get('href')\n",
    "\n",
    "            news_source = div.parent.find_all(\n",
    "                'div', {'class': 'news-source'})[0].contents[1]\n",
    "            leaning = div.parent.find_all('div', {'class': 'bias-image'})[0].img.get(\n",
    "                'title').replace(\"Political News Media Bias Rating: \", '')\n",
    "\n",
    "            news_text = '\\n'.join([s.contents[0] for s in\n",
    "                                   div.parent.find_all(\n",
    "                                       'div', {'class': 'news-body'})[0].contents\n",
    "                                   if 'Tag' in str(type(s))])\n",
    "            prefix = leaning.lower().replace('lean ', '') + '_story_'\n",
    "            story_info = {\n",
    "                f'{prefix}title': title,\n",
    "                f'{prefix}url': url,\n",
    "                f'{prefix}source': news_source,\n",
    "                f'{prefix}leaning': leaning,\n",
    "                f'{prefix}text': news_text\n",
    "            }\n",
    "            story_triplet_info = {**story_triplet_info, **story_info}\n",
    "    except:\n",
    "        return {}\n",
    "    return story_triplet_info\n",
    "\n",
    "\n",
    "def get_stories(df):\n",
    "    '''Add list for all stories\n",
    "    '''\n",
    "    story_triplet_list = []\n",
    "    for i in tqdm(range(df.shape[0])):\n",
    "        url_story = url_root + df.iloc[i]['url_story']\n",
    "        story_triplet_info = get_info_from_url_story(url_story)\n",
    "        story_triplet_list.append(story_triplet_info)\n",
    "\n",
    "    df_stories = pd.DataFrame.from_dict(story_triplet_list)\n",
    "    for k in df_stories:\n",
    "        df_stories[k] = df_stories[k].astype(str)\n",
    "    return df_stories\n",
    "\n",
    "\n",
    "df_stories = get_stories(df)\n",
    "df_stories.to_pickle('../data/df_stories.pkl')"
   ]
  },
  {
   "cell_type": "markdown",
   "metadata": {},
   "source": [
    "# store merged df"
   ]
  },
  {
   "cell_type": "code",
   "execution_count": null,
   "metadata": {},
   "outputs": [],
   "source": [
    "df_links = pd.read_pickle('../data/df_links.pkl')\n",
    "df_stories = pd.read_pickle('../data/df_stories.pkl')\n",
    "df_links.index = np.arange(df_links.shape[0])\n",
    "df = pd.concat((df_links, df_stories), axis=1)  # 'rows', ignore_index=True)\n",
    "# df = df_links.merge(df_stories)\n",
    "\n",
    "# drop columns for mixed / not rated\n",
    "df = df[[k for k in df.keys()\n",
    "        if not 'mixed' in k and not 'not rated' in k]]\n",
    "\n",
    "# drop rows with any nans\n",
    "df = df.replace('nan', np.nan)\n",
    "df = df.dropna()\n",
    "\n",
    "df.to_pickle('../data/df_final.pkl')"
   ]
  },
  {
   "cell_type": "markdown",
   "metadata": {},
   "source": [
    "# store as csv"
   ]
  },
  {
   "cell_type": "code",
   "execution_count": 8,
   "metadata": {},
   "outputs": [],
   "source": [
    "df = pd.read_pickle('../data/df_final.pkl')"
   ]
  },
  {
   "cell_type": "code",
   "execution_count": 9,
   "metadata": {},
   "outputs": [],
   "source": [
    "# move left_story_title, center_story_title\t, right_story_title to be the first columns\n",
    "columns_titles = ['left_story_title',\n",
    "                  'center_story_title', 'right_story_title']\n",
    "columns = columns_titles + [c for c in df.columns if not c in columns_titles]\n",
    "df = df[columns]"
   ]
  },
  {
   "cell_type": "code",
   "execution_count": 13,
   "metadata": {},
   "outputs": [],
   "source": [
    "df.to_csv('../data/df_final.csv')"
   ]
  }
 ],
 "metadata": {
  "kernelspec": {
   "display_name": "Python 3",
   "language": "python",
   "name": "python3"
  },
  "language_info": {
   "codemirror_mode": {
    "name": "ipython",
    "version": 3
   },
   "file_extension": ".py",
   "mimetype": "text/x-python",
   "name": "python",
   "nbconvert_exporter": "python",
   "pygments_lexer": "ipython3",
   "version": "3.11.9"
  }
 },
 "nbformat": 4,
 "nbformat_minor": 2
}
