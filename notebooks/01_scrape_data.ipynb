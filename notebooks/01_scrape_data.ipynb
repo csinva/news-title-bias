{
 "cells": [
  {
   "cell_type": "code",
   "execution_count": 1,
   "metadata": {},
   "outputs": [],
   "source": [
    "import pandas as pd\n",
    "import bs4 as bs\n",
    "import urllib.request\n",
    "from tqdm import tqdm\n",
    "import numpy as np"
   ]
  },
  {
   "cell_type": "markdown",
   "metadata": {},
   "source": [
    "# load story metadata"
   ]
  },
  {
   "cell_type": "code",
   "execution_count": 2,
   "metadata": {},
   "outputs": [
    {
     "name": "stderr",
     "output_type": "stream",
     "text": [
      " 71%|███████▏  | 107/150 [01:34<00:39,  1.09it/s]/Users/chandan/Library/Python/3.7/lib/python/site-packages/bs4/__init__.py:177: UserWarning: You provided Unicode markup but also provided a value for from_encoding. Your from_encoding will be ignored.\n",
      "  warnings.warn(\"You provided Unicode markup but also provided a value for from_encoding. Your from_encoding will be ignored.\")\n",
      " 72%|███████▏  | 108/150 [01:35<00:35,  1.18it/s]"
     ]
    },
    {
     "name": "stdout",
     "output_type": "stream",
     "text": [
      "stopped after 107 pages\n"
     ]
    },
    {
     "name": "stderr",
     "output_type": "stream",
     "text": [
      "\r",
      " 73%|███████▎  | 109/150 [01:36<00:30,  1.36it/s]"
     ]
    },
    {
     "name": "stdout",
     "output_type": "stream",
     "text": [
      "stopped after 108 pages\n"
     ]
    },
    {
     "name": "stderr",
     "output_type": "stream",
     "text": [
      "\r",
      " 73%|███████▎  | 110/150 [01:36<00:28,  1.40it/s]"
     ]
    },
    {
     "name": "stdout",
     "output_type": "stream",
     "text": [
      "stopped after 109 pages\n"
     ]
    },
    {
     "name": "stderr",
     "output_type": "stream",
     "text": [
      "\r",
      " 74%|███████▍  | 111/150 [01:37<00:25,  1.52it/s]"
     ]
    },
    {
     "name": "stdout",
     "output_type": "stream",
     "text": [
      "stopped after 110 pages\n"
     ]
    },
    {
     "name": "stderr",
     "output_type": "stream",
     "text": [
      "\r",
      " 75%|███████▍  | 112/150 [01:37<00:24,  1.55it/s]"
     ]
    },
    {
     "name": "stdout",
     "output_type": "stream",
     "text": [
      "stopped after 111 pages\n"
     ]
    },
    {
     "name": "stderr",
     "output_type": "stream",
     "text": [
      "\r",
      " 75%|███████▌  | 113/150 [01:38<00:24,  1.49it/s]"
     ]
    },
    {
     "name": "stdout",
     "output_type": "stream",
     "text": [
      "stopped after 112 pages\n"
     ]
    },
    {
     "name": "stderr",
     "output_type": "stream",
     "text": [
      "\r",
      " 76%|███████▌  | 114/150 [01:39<00:27,  1.31it/s]"
     ]
    },
    {
     "name": "stdout",
     "output_type": "stream",
     "text": [
      "stopped after 113 pages\n"
     ]
    },
    {
     "name": "stderr",
     "output_type": "stream",
     "text": [
      "\r",
      " 77%|███████▋  | 115/150 [01:40<00:26,  1.32it/s]"
     ]
    },
    {
     "name": "stdout",
     "output_type": "stream",
     "text": [
      "stopped after 114 pages\n"
     ]
    },
    {
     "name": "stderr",
     "output_type": "stream",
     "text": [
      "\r",
      " 77%|███████▋  | 116/150 [01:41<00:27,  1.24it/s]"
     ]
    },
    {
     "name": "stdout",
     "output_type": "stream",
     "text": [
      "stopped after 115 pages\n"
     ]
    },
    {
     "name": "stderr",
     "output_type": "stream",
     "text": [
      "\r",
      " 78%|███████▊  | 117/150 [01:42<00:28,  1.16it/s]"
     ]
    },
    {
     "name": "stdout",
     "output_type": "stream",
     "text": [
      "stopped after 116 pages\n"
     ]
    },
    {
     "name": "stderr",
     "output_type": "stream",
     "text": [
      "\r",
      " 79%|███████▊  | 118/150 [01:42<00:25,  1.27it/s]"
     ]
    },
    {
     "name": "stdout",
     "output_type": "stream",
     "text": [
      "stopped after 117 pages\n"
     ]
    },
    {
     "name": "stderr",
     "output_type": "stream",
     "text": [
      "\r",
      " 79%|███████▉  | 119/150 [01:43<00:23,  1.34it/s]"
     ]
    },
    {
     "name": "stdout",
     "output_type": "stream",
     "text": [
      "stopped after 118 pages\n"
     ]
    },
    {
     "name": "stderr",
     "output_type": "stream",
     "text": [
      "\r",
      " 80%|████████  | 120/150 [01:44<00:21,  1.41it/s]"
     ]
    },
    {
     "name": "stdout",
     "output_type": "stream",
     "text": [
      "stopped after 119 pages\n"
     ]
    },
    {
     "name": "stderr",
     "output_type": "stream",
     "text": [
      " 81%|████████▏ | 122/150 [01:44<00:12,  2.28it/s]"
     ]
    },
    {
     "name": "stdout",
     "output_type": "stream",
     "text": [
      "stopped after 120 pages\n",
      "stopped after 121 pages\n"
     ]
    },
    {
     "name": "stderr",
     "output_type": "stream",
     "text": [
      " 83%|████████▎ | 124/150 [01:44<00:07,  3.31it/s]"
     ]
    },
    {
     "name": "stdout",
     "output_type": "stream",
     "text": [
      "stopped after 122 pages\n",
      "stopped after 123 pages\n"
     ]
    },
    {
     "name": "stderr",
     "output_type": "stream",
     "text": [
      " 84%|████████▍ | 126/150 [01:45<00:05,  4.34it/s]"
     ]
    },
    {
     "name": "stdout",
     "output_type": "stream",
     "text": [
      "stopped after 124 pages\n",
      "stopped after 125 pages\n"
     ]
    },
    {
     "name": "stderr",
     "output_type": "stream",
     "text": [
      " 85%|████████▌ | 128/150 [01:45<00:04,  5.27it/s]"
     ]
    },
    {
     "name": "stdout",
     "output_type": "stream",
     "text": [
      "stopped after 126 pages\n",
      "stopped after 127 pages\n"
     ]
    },
    {
     "name": "stderr",
     "output_type": "stream",
     "text": [
      " 87%|████████▋ | 130/150 [01:45<00:03,  5.50it/s]"
     ]
    },
    {
     "name": "stdout",
     "output_type": "stream",
     "text": [
      "stopped after 128 pages\n",
      "stopped after 129 pages\n"
     ]
    },
    {
     "name": "stderr",
     "output_type": "stream",
     "text": [
      " 88%|████████▊ | 132/150 [01:46<00:02,  6.14it/s]"
     ]
    },
    {
     "name": "stdout",
     "output_type": "stream",
     "text": [
      "stopped after 130 pages\n",
      "stopped after 131 pages\n"
     ]
    },
    {
     "name": "stderr",
     "output_type": "stream",
     "text": [
      "\r",
      " 89%|████████▊ | 133/150 [01:46<00:02,  6.12it/s]"
     ]
    },
    {
     "name": "stdout",
     "output_type": "stream",
     "text": [
      "stopped after 132 pages\n",
      "stopped after 133 pages\n"
     ]
    },
    {
     "name": "stderr",
     "output_type": "stream",
     "text": [
      " 91%|█████████ | 136/150 [01:46<00:02,  6.59it/s]"
     ]
    },
    {
     "name": "stdout",
     "output_type": "stream",
     "text": [
      "stopped after 134 pages\n",
      "stopped after 135 pages\n"
     ]
    },
    {
     "name": "stderr",
     "output_type": "stream",
     "text": [
      " 92%|█████████▏| 138/150 [01:46<00:01,  6.39it/s]"
     ]
    },
    {
     "name": "stdout",
     "output_type": "stream",
     "text": [
      "stopped after 136 pages\n",
      "stopped after 137 pages\n"
     ]
    },
    {
     "name": "stderr",
     "output_type": "stream",
     "text": [
      " 93%|█████████▎| 140/150 [01:47<00:01,  6.33it/s]"
     ]
    },
    {
     "name": "stdout",
     "output_type": "stream",
     "text": [
      "stopped after 138 pages\n",
      "stopped after 139 pages\n"
     ]
    },
    {
     "name": "stderr",
     "output_type": "stream",
     "text": [
      " 95%|█████████▍| 142/150 [01:47<00:01,  6.74it/s]"
     ]
    },
    {
     "name": "stdout",
     "output_type": "stream",
     "text": [
      "stopped after 140 pages\n",
      "stopped after 141 pages\n"
     ]
    },
    {
     "name": "stderr",
     "output_type": "stream",
     "text": [
      " 96%|█████████▌| 144/150 [01:48<00:01,  5.35it/s]"
     ]
    },
    {
     "name": "stdout",
     "output_type": "stream",
     "text": [
      "stopped after 142 pages\n",
      "stopped after 143 pages\n"
     ]
    },
    {
     "name": "stderr",
     "output_type": "stream",
     "text": [
      " 97%|█████████▋| 146/150 [01:48<00:00,  5.98it/s]"
     ]
    },
    {
     "name": "stdout",
     "output_type": "stream",
     "text": [
      "stopped after 144 pages\n",
      "stopped after 145 pages\n"
     ]
    },
    {
     "name": "stderr",
     "output_type": "stream",
     "text": [
      " 99%|█████████▊| 148/150 [01:48<00:00,  6.23it/s]"
     ]
    },
    {
     "name": "stdout",
     "output_type": "stream",
     "text": [
      "stopped after 146 pages\n",
      "stopped after 147 pages\n"
     ]
    },
    {
     "name": "stderr",
     "output_type": "stream",
     "text": [
      "\r",
      " 99%|█████████▉| 149/150 [01:48<00:00,  6.13it/s]"
     ]
    },
    {
     "name": "stdout",
     "output_type": "stream",
     "text": [
      "stopped after 148 pages\n"
     ]
    },
    {
     "name": "stderr",
     "output_type": "stream",
     "text": [
      "\r",
      "100%|██████████| 150/150 [01:49<00:00,  3.25it/s]"
     ]
    },
    {
     "name": "stdout",
     "output_type": "stream",
     "text": [
      "stopped after 149 pages\n"
     ]
    },
    {
     "name": "stderr",
     "output_type": "stream",
     "text": [
      "\n"
     ]
    }
   ],
   "source": [
    "url_root = 'https://www.allsides.com/'\n",
    "url_page = url_root + 'story/admin?page='\n",
    "tab_num = 0\n",
    "\n",
    "# loop over pages\n",
    "# there are about 100 pages as of 12/29/2020, so we set this number to be well above that\n",
    "dfs = []\n",
    "for tab_num in tqdm(range(150)):\n",
    "    # read in the source\n",
    "    try:\n",
    "        source = urllib.request.urlopen(url_page + str(tab_num))\n",
    "        sp = bs.BeautifulSoup(source, 'lxml')\n",
    "        table = sp.table\n",
    "        df = pd.read_html(str(table), encoding='utf-8', header=0)[0] # read table with no links\n",
    "\n",
    "        # get links\n",
    "        links = []\n",
    "        for tag in table.find_all('a'):\n",
    "            if tag.has_attr('href'):\n",
    "                link = tag.get('href')\n",
    "                if '/story' in link:\n",
    "                    links.append(link)\n",
    "            else:\n",
    "                print(f'error! missing a link for {link}')\n",
    "        df['url_story'] = links\n",
    "        dfs.append(df)\n",
    "    except:\n",
    "        print(f'stopped after {tab_num} pages')\n",
    "        break\n",
    "        \n",
    "df = pd.concat(dfs)\n",
    "df.to_pickle('../data/df_links.pkl')"
   ]
  },
  {
   "cell_type": "markdown",
   "metadata": {},
   "source": [
    "# load news title / sources by following links"
   ]
  },
  {
   "cell_type": "code",
   "execution_count": 10,
   "metadata": {},
   "outputs": [
    {
     "name": "stderr",
     "output_type": "stream",
     "text": [
      "100%|██████████| 5315/5315 [1:34:55<00:00,  1.02s/it]  \n"
     ]
    }
   ],
   "source": [
    "# add info from link\n",
    "def get_info_from_url_story(url_story):\n",
    "    '''add info rom url on a a story\n",
    "    '''\n",
    "    story = urllib.request.urlopen(url_story)\n",
    "    sp_story = bs.BeautifulSoup(story, 'html.parser')\n",
    "\n",
    "    \n",
    "    # extract info from specific story page\n",
    "    story_triplet_info = {}\n",
    "    \n",
    "    # loop over left, center, and right stories\n",
    "    try:\n",
    "        for div in sp_story.find_all('div', {'class': 'news-title'})[:3]:\n",
    "            title = div.a.contents[0]\n",
    "            url = div.a.get('href')\n",
    "\n",
    "            news_source = div.parent.find_all('div', {'class': 'news-source'})[0].contents[1]\n",
    "            leaning = div.parent.find_all('div', {'class': 'bias-image'})[0].img.get('title').replace(\"Political News Media Bias Rating: \", '')\n",
    "\n",
    "            news_text = '\\n'.join([s.contents[0] for s in \n",
    "                      div.parent.find_all('div', {'class': 'news-body'})[0].contents\n",
    "                      if 'Tag' in str(type(s))])\n",
    "            prefix = leaning.lower().replace('lean ', '') + '_story_'\n",
    "            story_info = {\n",
    "                f'{prefix}title': title,\n",
    "                f'{prefix}url': url,\n",
    "                f'{prefix}source': news_source,\n",
    "                f'{prefix}leaning': leaning,\n",
    "                f'{prefix}text': news_text\n",
    "            }\n",
    "            story_triplet_info = {**story_triplet_info, **story_info}\n",
    "    except:\n",
    "        return {}\n",
    "    return story_triplet_info\n",
    "\n",
    "def get_stories(df):\n",
    "    '''Add list for all stories\n",
    "    '''\n",
    "    story_triplet_list = []\n",
    "    for i in tqdm(range(df.shape[0])):\n",
    "        url_story = url_root + df.iloc[i]['url_story']\n",
    "        story_triplet_info = get_info_from_url_story(url_story)\n",
    "        story_triplet_list.append(story_triplet_info)\n",
    "        \n",
    "    df_stories = pd.DataFrame.from_dict(story_triplet_list)\n",
    "    for k in df_stories:\n",
    "        df_stories[k] = df_stories[k].astype(str)\n",
    "    return df_stories\n",
    "    \n",
    "df_stories = get_stories(df)\n",
    "df_stories.to_pickle('../data/df_stories.pkl')"
   ]
  },
  {
   "cell_type": "markdown",
   "metadata": {},
   "source": [
    "# store merged df"
   ]
  },
  {
   "cell_type": "code",
   "execution_count": 2,
   "metadata": {},
   "outputs": [],
   "source": [
    "df_links = pd.read_pickle('../data/df_links.pkl')\n",
    "df_stories = pd.read_pickle('../data/df_stories.pkl')\n",
    "df_links.index = np.arange(df_links.shape[0])\n",
    "df = pd.concat((df_links, df_stories), axis=1) #'rows', ignore_index=True)\n",
    "# df = df_links.merge(df_stories)\n",
    "\n",
    "# drop columns for mixed / not rated\n",
    "df = df[[k for k in df.keys()\n",
    "        if not 'mixed' in k and not 'not rated' in k]]\n",
    "\n",
    "# drop rows with any nans\n",
    "df = df.replace('nan', np.nan)\n",
    "df = df.dropna()\n",
    "\n",
    "df.to_pickle('../data/df_final.pkl')"
   ]
  },
  {
   "cell_type": "code",
   "execution_count": null,
   "metadata": {},
   "outputs": [],
   "source": []
  }
 ],
 "metadata": {
  "kernelspec": {
   "display_name": "Python 3",
   "language": "python",
   "name": "python3"
  },
  "language_info": {
   "codemirror_mode": {
    "name": "ipython",
    "version": 3
   },
   "file_extension": ".py",
   "mimetype": "text/x-python",
   "name": "python",
   "nbconvert_exporter": "python",
   "pygments_lexer": "ipython3",
   "version": "3.7.0"
  }
 },
 "nbformat": 4,
 "nbformat_minor": 2
}
