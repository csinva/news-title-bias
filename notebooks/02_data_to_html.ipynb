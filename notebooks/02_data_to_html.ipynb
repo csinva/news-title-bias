{
 "cells": [
  {
   "cell_type": "code",
   "execution_count": 122,
   "metadata": {},
   "outputs": [],
   "source": [
    "import pandas as pd\n",
    "import bs4 as bs\n",
    "import urllib.request\n",
    "from tqdm import tqdm\n",
    "import numpy as np\n",
    "import seaborn as sns\n",
    "import matplotlib\n",
    "import datetime\n",
    "df = pd.read_pickle('../data/df_final.pkl')\n",
    "NUM_STORIES = 200"
   ]
  },
  {
   "cell_type": "code",
   "execution_count": 127,
   "metadata": {},
   "outputs": [
    {
     "data": {
      "text/plain": [
       "datetime.datetime(2020, 12, 29, 11, 42, 12, 158315)"
      ]
     },
     "execution_count": 127,
     "metadata": {},
     "output_type": "execute_result"
    }
   ],
   "source": []
  },
  {
   "cell_type": "markdown",
   "metadata": {},
   "source": [
    "# print timeline header"
   ]
  },
  {
   "cell_type": "code",
   "execution_count": 130,
   "metadata": {},
   "outputs": [],
   "source": [
    "timeline_header = ''\n",
    "for i in range(NUM_STORIES):\n",
    "    story = df.iloc[i]\n",
    "    s_head = '<li><a href=\"#0\" data-date='\n",
    "    s_tail = '</a></li>'\n",
    "    s_mid = 'class=\"cd-h-timeline__date'\n",
    "    if i == 0: \n",
    "        s_mid = s_mid + ' cd-h-timeline__date--selected\">'\n",
    "    else:\n",
    "        s_mid = s_mid + '\">'\n",
    "    \n",
    "    [yr, mo, day] = story.Date.split('-')\n",
    "#     data_date = f'{day}/{mo}/{yr}'\n",
    "    data_date = (datetime.datetime.today() - datetime.timedelta(days=i))\n",
    "    data_date = f'{data_date.day}/{data_date.month}/{data_date.year}'\n",
    "\n",
    "    disp_date = f'{mo}/{day}'\n",
    "    \n",
    "    timeline_header += f'{s_head}{data_date} {s_mid} {disp_date} {s_tail}\\n'\n",
    "with open('../app/timeline_header.html', 'w') as f:\n",
    "    f.write(timeline_header)"
   ]
  },
  {
   "cell_type": "markdown",
   "metadata": {},
   "source": [
    "# print story elements"
   ]
  },
  {
   "cell_type": "code",
   "execution_count": 119,
   "metadata": {},
   "outputs": [],
   "source": [
    "colors = [matplotlib.colors.to_hex(c)\n",
    "          for c in sns.diverging_palette(250, 15, s=75, l=40, n=7, center=\"dark\")]\n",
    "cdict = {\n",
    "    'Left': colors[0],\n",
    "    'Lean Left': colors[1],\n",
    "    'Center': '#555',\n",
    "    'Lean Right': colors[5],\n",
    "    'Right': colors[6],\n",
    "}"
   ]
  },
  {
   "cell_type": "code",
   "execution_count": 120,
   "metadata": {
    "scrolled": false
   },
   "outputs": [],
   "source": [
    "s_full = ''\n",
    "for i in range(NUM_STORIES):\n",
    "    story = df.iloc[i]\n",
    "    if i == 0:\n",
    "        li_head = '<li class=\"cd-h-timeline__event cd-h-timeline__event--selected text-component\">'\n",
    "    else:\n",
    "        li_head = '<li class=\"cd-h-timeline__event text-component\">'\n",
    "        \n",
    "        \n",
    "    li_head = li_head + '\\n\\t<div class=\"cd-h-timeline__event-content container\">\\n'\n",
    "    title = f'\\t<h2 style=\"text-align:center; font-size:xx-large\" class=\"cd-h-timeline__event-title\">{story.Topics}</h2>\\n'\n",
    "    story_headers = ''\n",
    "    for pre in ['left', 'center', 'right']:\n",
    "        story_headers += '\\t\\t<p style=\"font-size:x-large\" class=\"cd-h-timeline__event-description color-contrast-low\">'\n",
    "        story_headers += story[pre + '_story_title']\n",
    "        leaning = story[pre + \"_story_leaning\"]\n",
    "        story_headers += f'\\n</br><a style=\"color:{cdict[leaning]}\" href=\"{story[pre + \"_story_url\"]}\">{story[pre + \"_story_source\"]}</a>'\n",
    "        story_headers += f'&nbsp &nbsp <em style=\"color:{cdict[leaning]}\">Leaning: {leaning}</em>'\n",
    "        story_headers += '</p>\\n'\n",
    "    li_tail = '\\n\\t</div>\\n</li>'\n",
    "    \n",
    "    s_full = s_full + f'{li_head}{title}{story_headers}{li_tail}\\n'\n",
    "    with open('../app/content_table.html', 'w') as f:\n",
    "        f.write(s_full)"
   ]
  },
  {
   "cell_type": "code",
   "execution_count": null,
   "metadata": {},
   "outputs": [],
   "source": []
  },
  {
   "cell_type": "code",
   "execution_count": null,
   "metadata": {},
   "outputs": [],
   "source": []
  }
 ],
 "metadata": {
  "kernelspec": {
   "display_name": "Python 3",
   "language": "python",
   "name": "python3"
  },
  "language_info": {
   "codemirror_mode": {
    "name": "ipython",
    "version": 3
   },
   "file_extension": ".py",
   "mimetype": "text/x-python",
   "name": "python",
   "nbconvert_exporter": "python",
   "pygments_lexer": "ipython3",
   "version": "3.7.0"
  }
 },
 "nbformat": 4,
 "nbformat_minor": 2
}
